{
 "cells": [
  {
   "cell_type": "markdown",
   "id": "0f71772a",
   "metadata": {},
   "source": [
    "# Part of speech"
   ]
  },
  {
   "cell_type": "raw",
   "id": "949daed2",
   "metadata": {},
   "source": [
    "Noun \n",
    "pronoun\n",
    "preposition\n",
    "verb \n",
    "adverb\n",
    "adjective\n",
    "conjuction \n",
    "interjection\n"
   ]
  },
  {
   "cell_type": "code",
   "execution_count": 2,
   "id": "ebdb1dd7",
   "metadata": {},
   "outputs": [],
   "source": [
    "import spacy"
   ]
  },
  {
   "cell_type": "code",
   "execution_count": 4,
   "id": "d9799aac",
   "metadata": {},
   "outputs": [],
   "source": [
    "nlp= spacy.load(\"en_core_web_sm\")"
   ]
  },
  {
   "cell_type": "code",
   "execution_count": 5,
   "id": "d393af20",
   "metadata": {},
   "outputs": [],
   "source": [
    "doc= nlp(\"john flew to mars yesterday. He carried burger with him\")"
   ]
  },
  {
   "cell_type": "code",
   "execution_count": 11,
   "id": "a95b32d0",
   "metadata": {},
   "outputs": [
    {
     "name": "stdout",
     "output_type": "stream",
     "text": [
      "john - PROPN - proper noun\n",
      "flew - VERB - verb\n",
      "to - ADP - adposition\n",
      "mars - NOUN - noun\n",
      "yesterday - NOUN - noun\n",
      ". - PUNCT - punctuation\n",
      "He - PRON - pronoun\n",
      "carried - VERB - verb\n",
      "burger - NOUN - noun\n",
      "with - ADP - adposition\n",
      "him - PRON - pronoun\n"
     ]
    }
   ],
   "source": [
    "# To get the part of speech of particular words\n",
    "for i in doc:\n",
    "    print(i, \"-\",i.pos_,\"-\", spacy.explain(i.pos_))"
   ]
  },
  {
   "cell_type": "code",
   "execution_count": 8,
   "id": "eb02eea2",
   "metadata": {},
   "outputs": [
    {
     "name": "stdout",
     "output_type": "stream",
     "text": [
      "john - 96\n",
      "flew - 100\n",
      "to - 85\n",
      "mars - 92\n",
      "yesterday - 92\n",
      ". - 97\n",
      "He - 95\n",
      "carried - 100\n",
      "burger - 92\n",
      "with - 85\n",
      "him - 95\n"
     ]
    }
   ],
   "source": [
    "# to get unique id of particular word\n",
    "for i in doc:\n",
    "    print(i, \"-\",i.pos)"
   ]
  },
  {
   "cell_type": "code",
   "execution_count": 12,
   "id": "060f574a",
   "metadata": {},
   "outputs": [
    {
     "name": "stdout",
     "output_type": "stream",
     "text": [
      "john - PROPN - proper noun - 96\n",
      "flew - VERB - verb - 100\n",
      "to - ADP - adposition - 85\n",
      "mars - NOUN - noun - 92\n",
      "yesterday - NOUN - noun - 92\n",
      ". - PUNCT - punctuation - 97\n",
      "He - PRON - pronoun - 95\n",
      "carried - VERB - verb - 100\n",
      "burger - NOUN - noun - 92\n",
      "with - ADP - adposition - 85\n",
      "him - PRON - pronoun - 95\n"
     ]
    }
   ],
   "source": [
    "# To get the part of speech of particular words and unique id also.\n",
    "for i in doc:\n",
    "    print(i, \"-\",i.pos_,\"-\", spacy.explain(i.pos_),\"-\",i.pos)"
   ]
  },
  {
   "cell_type": "code",
   "execution_count": 20,
   "id": "a6869a83",
   "metadata": {},
   "outputs": [],
   "source": [
    "doc1= nlp(\"Wow ! Dr.strange movie has earned $455 billion dollar in ten days\")"
   ]
  },
  {
   "cell_type": "code",
   "execution_count": 23,
   "id": "4bd23ce3",
   "metadata": {
    "scrolled": true
   },
   "outputs": [
    {
     "name": "stdout",
     "output_type": "stream",
     "text": [
      "Wow - INTJ - interjection - 91 - UH - interjection\n",
      "! - PUNCT - punctuation - 97 - . - punctuation mark, sentence closer\n",
      "Dr.strange - PROPN - proper noun - 96 - NNP - noun, proper singular\n",
      "movie - NOUN - noun - 92 - NN - noun, singular or mass\n",
      "has - AUX - auxiliary - 87 - VBZ - verb, 3rd person singular present\n",
      "earned - VERB - verb - 100 - VBN - verb, past participle\n",
      "$ - SYM - symbol - 99 - $ - symbol, currency\n",
      "455 - NUM - numeral - 93 - CD - cardinal number\n",
      "billion - NUM - numeral - 93 - CD - cardinal number\n",
      "dollar - NOUN - noun - 92 - NN - noun, singular or mass\n",
      "in - ADP - adposition - 85 - IN - conjunction, subordinating or preposition\n",
      "ten - NUM - numeral - 93 - CD - cardinal number\n",
      "days - NOUN - noun - 92 - NNS - noun, plural\n"
     ]
    }
   ],
   "source": [
    "for i in doc1:\n",
    "    print(i, \"-\",i.pos_, \"-\",spacy.explain(i.pos_), \"-\",i.pos, \"-\",i.tag_, \"-\",spacy.explain(i.tag_))"
   ]
  },
  {
   "cell_type": "code",
   "execution_count": 26,
   "id": "ae255986",
   "metadata": {},
   "outputs": [],
   "source": [
    "s= '''Robert Nimmo (1893–1966) was a senior Australian Army officer, \n",
    "and the chief military observer (CMO) of the United Nations Military Observer ,\n",
    "Group in India and Pakistan (UNMOGIP) ,\n",
    "from 1950 until his death. Nimmo graduated early from the Royal Military'''"
   ]
  },
  {
   "cell_type": "code",
   "execution_count": 27,
   "id": "509e5122",
   "metadata": {},
   "outputs": [],
   "source": [
    "doc=nlp(s)"
   ]
  },
  {
   "cell_type": "code",
   "execution_count": 38,
   "id": "c36fe194",
   "metadata": {},
   "outputs": [],
   "source": [
    "# To append all the verb adjective and adverb into a list\n",
    "final= []\n",
    "for i in doc:\n",
    "    if i.pos_=='VERB' or i.pos_=='ADV' or i.pos_ =='ADJ':\n",
    "        final.append(i)"
   ]
  },
  {
   "cell_type": "code",
   "execution_count": 39,
   "id": "a0551211",
   "metadata": {},
   "outputs": [
    {
     "data": {
      "text/plain": [
       "[senior, Australian, chief, military, graduated, early]"
      ]
     },
     "execution_count": 39,
     "metadata": {},
     "output_type": "execute_result"
    }
   ],
   "source": [
    "final"
   ]
  },
  {
   "cell_type": "code",
   "execution_count": null,
   "id": "9415f93a",
   "metadata": {},
   "outputs": [],
   "source": []
  }
 ],
 "metadata": {
  "kernelspec": {
   "display_name": "Python 3 (ipykernel)",
   "language": "python",
   "name": "python3"
  },
  "language_info": {
   "codemirror_mode": {
    "name": "ipython",
    "version": 3
   },
   "file_extension": ".py",
   "mimetype": "text/x-python",
   "name": "python",
   "nbconvert_exporter": "python",
   "pygments_lexer": "ipython3",
   "version": "3.11.4"
  }
 },
 "nbformat": 4,
 "nbformat_minor": 5
}

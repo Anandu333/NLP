{
 "cells": [
  {
   "cell_type": "code",
   "execution_count": 1,
   "id": "fc20cb43",
   "metadata": {},
   "outputs": [],
   "source": [
    "s=''' The teams were playing their final match of the \"1976–77\" \n",
    "season in the Football League First Division, at Highfield Road (pictured), Coventry.\n",
    "Both teams faced potential relegation, along with Sunderland, who played their final game '''"
   ]
  },
  {
   "cell_type": "code",
   "execution_count": 2,
   "id": "0eb58b47",
   "metadata": {},
   "outputs": [
    {
     "data": {
      "text/plain": [
       "74"
      ]
     },
     "execution_count": 2,
     "metadata": {},
     "output_type": "execute_result"
    }
   ],
   "source": [
    "s.find(\"Football\")"
   ]
  },
  {
   "cell_type": "markdown",
   "id": "6911b219",
   "metadata": {},
   "source": [
    "# REGEX"
   ]
  },
  {
   "cell_type": "code",
   "execution_count": 3,
   "id": "59592b66",
   "metadata": {},
   "outputs": [],
   "source": [
    "import re"
   ]
  },
  {
   "cell_type": "code",
   "execution_count": 4,
   "id": "ac0d13db",
   "metadata": {},
   "outputs": [
    {
     "data": {
      "text/plain": [
       "['ai', 'ai']"
      ]
     },
     "execution_count": 4,
     "metadata": {},
     "output_type": "execute_result"
    }
   ],
   "source": [
    "text= \"rain in spain\"\n",
    "re.findall(\"ai\", text)\n"
   ]
  },
  {
   "cell_type": "code",
   "execution_count": 5,
   "id": "5ca12658",
   "metadata": {},
   "outputs": [],
   "source": [
    "s= '''I am john my contact is 12345678909 you can contact me on this'''"
   ]
  },
  {
   "cell_type": "code",
   "execution_count": 6,
   "id": "5ddf2adc",
   "metadata": {},
   "outputs": [
    {
     "data": {
      "text/plain": [
       "['1234567890']"
      ]
     },
     "execution_count": 6,
     "metadata": {},
     "output_type": "execute_result"
    }
   ],
   "source": [
    "# TO find all the digits in s\n",
    "re.findall(\"\\d{10}\", s)"
   ]
  },
  {
   "cell_type": "code",
   "execution_count": 7,
   "id": "f04633fa",
   "metadata": {},
   "outputs": [],
   "source": [
    "s1='''I am john my contact is (123)-456-7890 you can contact me on this'''"
   ]
  },
  {
   "cell_type": "code",
   "execution_count": 8,
   "id": "fd394439",
   "metadata": {},
   "outputs": [
    {
     "data": {
      "text/plain": [
       "['(123)-456-7890']"
      ]
     },
     "execution_count": 8,
     "metadata": {},
     "output_type": "execute_result"
    }
   ],
   "source": [
    "# to extract digits with brackets\n",
    "re.findall(\"\\(\\d{3}\\)-\\d{3}-\\d{4}\",s1)"
   ]
  },
  {
   "cell_type": "code",
   "execution_count": 9,
   "id": "afaeddd1",
   "metadata": {},
   "outputs": [],
   "source": [
    "s2 = ''' abc123@gmail.com'''"
   ]
  },
  {
   "cell_type": "code",
   "execution_count": 10,
   "id": "62abad47",
   "metadata": {},
   "outputs": [
    {
     "data": {
      "text/plain": [
       "['abc123@gmail.com']"
      ]
     },
     "execution_count": 10,
     "metadata": {},
     "output_type": "execute_result"
    }
   ],
   "source": [
    "re.findall(\"\\w+\\W\\w+\\W\\w+\",s2)"
   ]
  },
  {
   "cell_type": "code",
   "execution_count": 11,
   "id": "f6ed2702",
   "metadata": {},
   "outputs": [],
   "source": [
    "s3='''email is abc123@gmail.com'''"
   ]
  },
  {
   "cell_type": "code",
   "execution_count": 12,
   "id": "9910f698",
   "metadata": {},
   "outputs": [
    {
     "data": {
      "text/plain": [
       "['email is abc123@gmail.com']"
      ]
     },
     "execution_count": 12,
     "metadata": {},
     "output_type": "execute_result"
    }
   ],
   "source": [
    "re.findall(\"\\w+\\W\\w+\\W\\w+\\W\\w+\\W\\w+\",s3) "
   ]
  },
  {
   "cell_type": "code",
   "execution_count": 13,
   "id": "6d736af1",
   "metadata": {},
   "outputs": [],
   "source": [
    "s4= '''Note 1 - Overview \n",
    "Tesla, Inc(\"Tesla\",the \"Company\", \"we\",\"us\" or \"out\") \n",
    "was incorporated in the state of Delaware on july 1, 2003. We design, develop'''"
   ]
  },
  {
   "cell_type": "code",
   "execution_count": 14,
   "id": "73d23a7d",
   "metadata": {},
   "outputs": [
    {
     "data": {
      "text/plain": [
       "[]"
      ]
     },
     "execution_count": 14,
     "metadata": {},
     "output_type": "execute_result"
    }
   ],
   "source": [
    "# To find \"Note 1 - overview\"\n",
    "re.findall(\"/Note \\d+ \\W([^\\n]+)\",s4)"
   ]
  },
  {
   "cell_type": "code",
   "execution_count": 15,
   "id": "a3d60055",
   "metadata": {},
   "outputs": [],
   "source": [
    "s5='''abc's comapny generated $50 million profite in FY2023 Q1 while year it was $222 billion in FY2022 Q3'''"
   ]
  },
  {
   "cell_type": "code",
   "execution_count": 16,
   "id": "220e9706",
   "metadata": {},
   "outputs": [
    {
     "data": {
      "text/plain": [
       "['FY2023 Q1', 'FY2022 Q3']"
      ]
     },
     "execution_count": 16,
     "metadata": {},
     "output_type": "execute_result"
    }
   ],
   "source": [
    "# TO get financial year\n",
    "re.findall(\"FY\\d{4} Q\\d{1,4}\",s5)"
   ]
  },
  {
   "cell_type": "code",
   "execution_count": 17,
   "id": "4e69c3fc",
   "metadata": {},
   "outputs": [
    {
     "data": {
      "text/plain": [
       "['$50 million', '$222 billion']"
      ]
     },
     "execution_count": 17,
     "metadata": {},
     "output_type": "execute_result"
    }
   ],
   "source": [
    "re.findall(\"\\W\\d+ \\w+\",s5)"
   ]
  },
  {
   "cell_type": "markdown",
   "id": "77703e73",
   "metadata": {},
   "source": [
    "# SPACY"
   ]
  },
  {
   "cell_type": "code",
   "execution_count": 18,
   "id": "02c0d813",
   "metadata": {},
   "outputs": [],
   "source": [
    "#!pip install spacy"
   ]
  },
  {
   "cell_type": "code",
   "execution_count": 19,
   "id": "7dafe702",
   "metadata": {},
   "outputs": [],
   "source": [
    "#!python -m spacy download en_core_web_sm"
   ]
  },
  {
   "cell_type": "code",
   "execution_count": 20,
   "id": "6e6a6200",
   "metadata": {},
   "outputs": [],
   "source": [
    "import spacy\n",
    "nlp = spacy.load(\"en_core_web_sm\")"
   ]
  },
  {
   "cell_type": "code",
   "execution_count": 21,
   "id": "770f6dda",
   "metadata": {},
   "outputs": [],
   "source": [
    "s='''Nigerian psychological Mr.thriller film written by Tunde Babalola.\n",
    "produced and directed by Kunle Afolayan (pictured), and starring Sadiq Daba.\n",
    "Kayode Olaiya, and Demola Adedoyin. In the film, Inspector Danladi Waziri '''"
   ]
  },
  {
   "cell_type": "code",
   "execution_count": 22,
   "id": "560dec8d",
   "metadata": {},
   "outputs": [
    {
     "data": {
      "text/plain": [
       "['Nigerian psychological Mr',\n",
       " 'thriller film written by Tunde Babalola',\n",
       " '\\nproduced and directed by Kunle Afolayan (pictured), and starring Sadiq Daba',\n",
       " '\\nKayode Olaiya, and Demola Adedoyin',\n",
       " ' In the film, Inspector Danladi Waziri ']"
      ]
     },
     "execution_count": 22,
     "metadata": {},
     "output_type": "execute_result"
    }
   ],
   "source": [
    "# NOrmal split to to split sentence from \".\"\n",
    "# But it splits everything after the dot.\n",
    "s.split(\".\")"
   ]
  },
  {
   "cell_type": "code",
   "execution_count": 23,
   "id": "dca58b6d",
   "metadata": {},
   "outputs": [],
   "source": [
    "s= '''Dr.john have a degree in ABC. He us also work in laptop company'''"
   ]
  },
  {
   "cell_type": "code",
   "execution_count": 24,
   "id": "0d2ea10c",
   "metadata": {},
   "outputs": [],
   "source": [
    "# directly use spacy on variable\n",
    "doc=nlp(s)"
   ]
  },
  {
   "cell_type": "code",
   "execution_count": 25,
   "id": "3d8e92e2",
   "metadata": {},
   "outputs": [
    {
     "data": {
      "text/plain": [
       "<generator at 0x21a091988b0>"
      ]
     },
     "execution_count": 25,
     "metadata": {},
     "output_type": "execute_result"
    }
   ],
   "source": [
    "# used to find the sentence in the given variable\n",
    "doc.sents"
   ]
  },
  {
   "cell_type": "code",
   "execution_count": 26,
   "id": "3f1a82a0",
   "metadata": {},
   "outputs": [
    {
     "name": "stdout",
     "output_type": "stream",
     "text": [
      "Dr.john have a degree in ABC.\n",
      "He us also work in laptop company\n"
     ]
    }
   ],
   "source": [
    "# to extarxt the sentence we have to use for loop.\n",
    "# TO extact whole sentence\n",
    "for i in doc.sents:\n",
    "    print(i)"
   ]
  },
  {
   "cell_type": "code",
   "execution_count": 27,
   "id": "8a769125",
   "metadata": {},
   "outputs": [
    {
     "data": {
      "text/plain": [
       "spacy.tokens.span.Span"
      ]
     },
     "execution_count": 27,
     "metadata": {},
     "output_type": "execute_result"
    }
   ],
   "source": [
    "type(i)"
   ]
  },
  {
   "cell_type": "code",
   "execution_count": 28,
   "id": "917788d5",
   "metadata": {},
   "outputs": [
    {
     "name": "stdout",
     "output_type": "stream",
     "text": [
      "Dr.john\n",
      "have\n",
      "a\n",
      "degree\n",
      "in\n",
      "ABC\n",
      ".\n",
      "He\n",
      "us\n",
      "also\n",
      "work\n",
      "in\n",
      "laptop\n",
      "company\n"
     ]
    }
   ],
   "source": [
    "# To extract single words from the sentence\n",
    "for i in doc.sents:\n",
    "    for word in i:\n",
    "        print(word)"
   ]
  },
  {
   "cell_type": "code",
   "execution_count": 29,
   "id": "b5c7707d",
   "metadata": {},
   "outputs": [
    {
     "data": {
      "text/plain": [
       "spacy.tokens.doc.Doc"
      ]
     },
     "execution_count": 29,
     "metadata": {},
     "output_type": "execute_result"
    }
   ],
   "source": [
    "type(doc)"
   ]
  },
  {
   "cell_type": "markdown",
   "id": "543fd747",
   "metadata": {},
   "source": [
    "# NLTK"
   ]
  },
  {
   "cell_type": "code",
   "execution_count": 30,
   "id": "cb8907ff",
   "metadata": {},
   "outputs": [],
   "source": [
    "#!pip install NLTK"
   ]
  },
  {
   "cell_type": "code",
   "execution_count": 31,
   "id": "0b0adfc7",
   "metadata": {},
   "outputs": [],
   "source": [
    "import nltk"
   ]
  },
  {
   "cell_type": "code",
   "execution_count": 32,
   "id": "f1fbc06f",
   "metadata": {},
   "outputs": [],
   "source": [
    "#nltk.download('punkt')"
   ]
  },
  {
   "cell_type": "code",
   "execution_count": 33,
   "id": "c97bf1c9",
   "metadata": {},
   "outputs": [],
   "source": [
    "from nltk.tokenize import sent_tokenize"
   ]
  },
  {
   "cell_type": "code",
   "execution_count": 34,
   "id": "56babd57",
   "metadata": {
    "scrolled": true
   },
   "outputs": [
    {
     "data": {
      "text/plain": [
       "['Dr.john have a degree in ABC.', 'He us also work in laptop company']"
      ]
     },
     "execution_count": 34,
     "metadata": {},
     "output_type": "execute_result"
    }
   ],
   "source": [
    "sent_tokenize(s)"
   ]
  },
  {
   "cell_type": "code",
   "execution_count": 35,
   "id": "da846619",
   "metadata": {},
   "outputs": [
    {
     "data": {
      "text/plain": [
       "list"
      ]
     },
     "execution_count": 35,
     "metadata": {},
     "output_type": "execute_result"
    }
   ],
   "source": [
    "type(sent_tokenize(s))"
   ]
  },
  {
   "cell_type": "code",
   "execution_count": 36,
   "id": "e7c91609",
   "metadata": {},
   "outputs": [],
   "source": [
    "from nltk.tokenize import word_tokenize"
   ]
  },
  {
   "cell_type": "code",
   "execution_count": 37,
   "id": "d7132816",
   "metadata": {},
   "outputs": [
    {
     "data": {
      "text/plain": [
       "['Dr.john',\n",
       " 'have',\n",
       " 'a',\n",
       " 'degree',\n",
       " 'in',\n",
       " 'ABC',\n",
       " '.',\n",
       " 'He',\n",
       " 'us',\n",
       " 'also',\n",
       " 'work',\n",
       " 'in',\n",
       " 'laptop',\n",
       " 'company']"
      ]
     },
     "execution_count": 37,
     "metadata": {},
     "output_type": "execute_result"
    }
   ],
   "source": [
    "word_tokenize(s)"
   ]
  },
  {
   "cell_type": "code",
   "execution_count": 38,
   "id": "2527a815",
   "metadata": {},
   "outputs": [],
   "source": [
    "s='''Ms. Rani loves pizza and it cost $2 per slice'''"
   ]
  },
  {
   "cell_type": "code",
   "execution_count": 39,
   "id": "8683fc82",
   "metadata": {},
   "outputs": [],
   "source": [
    "doc= nlp(s)"
   ]
  },
  {
   "cell_type": "code",
   "execution_count": 40,
   "id": "ef62c1ef",
   "metadata": {
    "scrolled": true
   },
   "outputs": [
    {
     "name": "stdout",
     "output_type": "stream",
     "text": [
      "Ms.\n",
      "Rani\n",
      "loves\n",
      "pizza\n",
      "and\n",
      "it\n",
      "cost\n",
      "$\n",
      "2\n",
      "per\n",
      "slice\n"
     ]
    }
   ],
   "source": [
    "for token in doc:\n",
    "    print(token)"
   ]
  },
  {
   "cell_type": "code",
   "execution_count": 41,
   "id": "a7bb467c",
   "metadata": {},
   "outputs": [],
   "source": [
    "token1= doc[7]"
   ]
  },
  {
   "cell_type": "code",
   "execution_count": 42,
   "id": "53fd5104",
   "metadata": {},
   "outputs": [
    {
     "data": {
      "text/plain": [
       "False"
      ]
     },
     "execution_count": 42,
     "metadata": {},
     "output_type": "execute_result"
    }
   ],
   "source": [
    "# TO check which type of word is this.\n",
    "token1.is_alpha"
   ]
  },
  {
   "cell_type": "code",
   "execution_count": 43,
   "id": "4b61bae3",
   "metadata": {
    "scrolled": true
   },
   "outputs": [
    {
     "data": {
      "text/plain": [
       "True"
      ]
     },
     "execution_count": 43,
     "metadata": {},
     "output_type": "execute_result"
    }
   ],
   "source": [
    "token1.is_currency"
   ]
  },
  {
   "cell_type": "code",
   "execution_count": 44,
   "id": "a0321430",
   "metadata": {},
   "outputs": [
    {
     "name": "stdout",
     "output_type": "stream",
     "text": [
      "slice\n"
     ]
    }
   ],
   "source": [
    "# To find with which word does the sentence ends\n",
    "for i in doc.sents:\n",
    "    for word in i:\n",
    "        if word.is_sent_end == True:\n",
    "            print(word)\n",
    "            "
   ]
  },
  {
   "cell_type": "code",
   "execution_count": 45,
   "id": "2d530a3e",
   "metadata": {},
   "outputs": [
    {
     "name": "stdout",
     "output_type": "stream",
     "text": [
      "Ms.\n"
     ]
    }
   ],
   "source": [
    "# To find with which word does the sentence starts\n",
    "for i in doc.sents:\n",
    "    for word in i:\n",
    "        if word.is_sent_start == True:\n",
    "            print(word)\n",
    "            "
   ]
  },
  {
   "cell_type": "code",
   "execution_count": 46,
   "id": "9146f74c",
   "metadata": {},
   "outputs": [],
   "source": [
    "# Etract all the email from this list.\n",
    "s= \"\"\"Modern High School, 8th Grade student information\n",
    "\n",
    "==============================================\n",
    "\n",
    "Name    Birthday email\n",
    "\n",
    "------ ------ --------\n",
    "Virat 5ht June, 1882 virat@kohli.com\n",
    "Maria 12 April, 2001 maria@sharapova.com\n",
    "Serena 24 June, 1998 serena@williams.com\n",
    "joe 1 May, 1997 Joe@root.com\"\"\""
   ]
  },
  {
   "cell_type": "code",
   "execution_count": 47,
   "id": "dca8a010",
   "metadata": {},
   "outputs": [],
   "source": [
    "doc= nlp(s)"
   ]
  },
  {
   "cell_type": "code",
   "execution_count": 48,
   "id": "52ddc7d5",
   "metadata": {},
   "outputs": [],
   "source": [
    "# To Extract all the email.\n",
    "emails=[]\n",
    "for i in doc:\n",
    "#    print(i)\n",
    "    if i.like_email ==True:\n",
    "        emails.append(i)\n",
    "    "
   ]
  },
  {
   "cell_type": "code",
   "execution_count": 49,
   "id": "a9f9d622",
   "metadata": {},
   "outputs": [
    {
     "data": {
      "text/plain": [
       "[virat@kohli.com, maria@sharapova.com, serena@williams.com, Joe@root.com]"
      ]
     },
     "execution_count": 49,
     "metadata": {},
     "output_type": "execute_result"
    }
   ],
   "source": [
    "emails"
   ]
  },
  {
   "cell_type": "markdown",
   "id": "f8260c65",
   "metadata": {},
   "source": [
    "NLTK = Stemming and lemmatization\n",
    "Spacy= Lemmatization"
   ]
  },
  {
   "cell_type": "markdown",
   "id": "c6cee07d",
   "metadata": {},
   "source": [
    "# Stemming"
   ]
  },
  {
   "cell_type": "code",
   "execution_count": 50,
   "id": "6c56280c",
   "metadata": {},
   "outputs": [],
   "source": [
    "s= [\"Eating\",\"Eats\",\"ate\",\"eat\",\"adjustable\",\"ability\",\"meeting\"]"
   ]
  },
  {
   "cell_type": "code",
   "execution_count": 51,
   "id": "fad09f08",
   "metadata": {},
   "outputs": [],
   "source": [
    "import nltk"
   ]
  },
  {
   "cell_type": "code",
   "execution_count": 52,
   "id": "869a60ff",
   "metadata": {},
   "outputs": [],
   "source": [
    "from nltk.stem import PorterStemmer"
   ]
  },
  {
   "cell_type": "code",
   "execution_count": 53,
   "id": "3ef95135",
   "metadata": {},
   "outputs": [],
   "source": [
    "stemmer= PorterStemmer()"
   ]
  },
  {
   "cell_type": "code",
   "execution_count": 54,
   "id": "107ce2ae",
   "metadata": {},
   "outputs": [
    {
     "data": {
      "text/plain": [
       "'eat'"
      ]
     },
     "execution_count": 54,
     "metadata": {},
     "output_type": "execute_result"
    }
   ],
   "source": [
    "stemmer.stem(\"eating\")"
   ]
  },
  {
   "cell_type": "code",
   "execution_count": 55,
   "id": "9002c0ff",
   "metadata": {},
   "outputs": [
    {
     "data": {
      "text/plain": [
       "'improv'"
      ]
     },
     "execution_count": 55,
     "metadata": {},
     "output_type": "execute_result"
    }
   ],
   "source": [
    "stemmer.stem(\"improved\")"
   ]
  },
  {
   "cell_type": "code",
   "execution_count": 56,
   "id": "3d69269d",
   "metadata": {},
   "outputs": [
    {
     "name": "stdout",
     "output_type": "stream",
     "text": [
      "Eating  --  eat\n",
      "Eats  --  eat\n",
      "ate  --  ate\n",
      "eat  --  eat\n",
      "adjustable  --  adjust\n",
      "ability  --  abil\n",
      "meeting  --  meet\n"
     ]
    }
   ],
   "source": [
    " for i in s:\n",
    "    print(i, \" -- \",stemmer.stem(i))"
   ]
  },
  {
   "cell_type": "markdown",
   "id": "9e270e2b",
   "metadata": {},
   "source": [
    "# Lemmatization"
   ]
  },
  {
   "cell_type": "code",
   "execution_count": 59,
   "id": "38782b60",
   "metadata": {},
   "outputs": [],
   "source": [
    "# join all the words with space \n",
    "# As lemma takes complete string data \n",
    "new= \" \".join(s)"
   ]
  },
  {
   "cell_type": "code",
   "execution_count": 60,
   "id": "6f5f1695",
   "metadata": {},
   "outputs": [
    {
     "data": {
      "text/plain": [
       "'Eating Eats ate eat adjustable ability meeting'"
      ]
     },
     "execution_count": 60,
     "metadata": {},
     "output_type": "execute_result"
    }
   ],
   "source": [
    "new"
   ]
  },
  {
   "cell_type": "code",
   "execution_count": 61,
   "id": "31dc2f35",
   "metadata": {},
   "outputs": [],
   "source": [
    "doc= nlp(new)"
   ]
  },
  {
   "cell_type": "code",
   "execution_count": 62,
   "id": "8a46ba6f",
   "metadata": {},
   "outputs": [
    {
     "data": {
      "text/plain": [
       "Eating Eats ate eat adjustable ability meeting"
      ]
     },
     "execution_count": 62,
     "metadata": {},
     "output_type": "execute_result"
    }
   ],
   "source": [
    "doc"
   ]
  },
  {
   "cell_type": "code",
   "execution_count": 66,
   "id": "ff698907",
   "metadata": {},
   "outputs": [
    {
     "name": "stdout",
     "output_type": "stream",
     "text": [
      "Eating - eat\n",
      "Eats - Eats\n",
      "ate - eat\n",
      "eat - eat\n",
      "adjustable - adjustable\n",
      "ability - ability\n",
      "meeting - meeting\n"
     ]
    }
   ],
   "source": [
    "for i in doc:\n",
    "    print(i, '-',i.lemma_)"
   ]
  },
  {
   "cell_type": "code",
   "execution_count": 67,
   "id": "1f0b43f9",
   "metadata": {},
   "outputs": [
    {
     "name": "stdout",
     "output_type": "stream",
     "text": [
      "Eating - 9837207709914848172\n",
      "Eats - 10099885286660899914\n",
      "ate - 9837207709914848172\n",
      "eat - 9837207709914848172\n",
      "adjustable - 6033511944150694480\n",
      "ability - 11565809527369121409\n",
      "meeting - 14798207169164081740\n"
     ]
    }
   ],
   "source": [
    "for i in doc:\n",
    "    print(i, '-',i.lemma)"
   ]
  },
  {
   "cell_type": "code",
   "execution_count": null,
   "id": "ec066d45",
   "metadata": {},
   "outputs": [],
   "source": []
  }
 ],
 "metadata": {
  "kernelspec": {
   "display_name": "Python 3 (ipykernel)",
   "language": "python",
   "name": "python3"
  },
  "language_info": {
   "codemirror_mode": {
    "name": "ipython",
    "version": 3
   },
   "file_extension": ".py",
   "mimetype": "text/x-python",
   "name": "python",
   "nbconvert_exporter": "python",
   "pygments_lexer": "ipython3",
   "version": "3.11.4"
  }
 },
 "nbformat": 4,
 "nbformat_minor": 5
}
